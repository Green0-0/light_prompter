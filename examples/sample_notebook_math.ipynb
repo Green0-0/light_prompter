{
 "cells": [
  {
   "cell_type": "code",
   "execution_count": null,
   "metadata": {},
   "outputs": [],
   "source": [
    "!pip uninstall -y --quiet torch\n",
    "!pip install vllm\n",
    "!git clone https://github.com/Green0-0/light_prompter"
   ]
  },
  {
   "cell_type": "code",
   "execution_count": null,
   "metadata": {},
   "outputs": [],
   "source": [
    "# Import required modules\n",
    "from light_prompter.model import VLLMModel\n",
    "from light_prompter import responder\n",
    "from light_prompter.responders.prompt_basic import Prompt_Basic\n",
    "from light_prompter.responders.pickcommon_custom import PickCommon_Custom\n",
    "from light_prompter.sane_defaults import *"
   ]
  },
  {
   "cell_type": "code",
   "execution_count": null,
   "metadata": {},
   "outputs": [],
   "source": [
    "from vllm import LLM, SamplingParams\n",
    "\n",
    "# Initialize model\n",
    "llm = LLM(model=\"Qwen/Qwen2.5-Math-7B-Instruct\",\n",
    "          dtype='half',\n",
    "          enforce_eager=True,\n",
    "          gpu_memory_utilization=0.95,\n",
    "          swap_space=4,\n",
    "          max_model_len=4096,\n",
    "          tensor_parallel_size=2)\n",
    "\n",
    "sampling_params = SamplingParams(temperature=0.75,\n",
    "                                 min_p=0.1,\n",
    "                                 max_tokens=1500,\n",
    "                                 stop=[\"<｜end▁of▁sentence｜>\", \"</s>\", \"<|eot_id|>\", \"<|im_end|>\", \"[/INST]\"])\n",
    "\n",
    "model = VLLMModel(llm, sampling_params)"
   ]
  },
  {
   "cell_type": "code",
   "execution_count": null,
   "metadata": {},
   "outputs": [],
   "source": [
    "# Set up PickCommon responder\n",
    "def numeric_similarity(a, b):\n",
    "    try:\n",
    "        a_num = float(a)\n",
    "        b_num = float(b)\n",
    "        if a_num == b_num:\n",
    "            return 0\n",
    "        return -abs(a_num - b_num)  # Negative distance for sorting\n",
    "    except ValueError:\n",
    "        return -float('inf')  # Treat non-numeric as least similar\n",
    "\n",
    "picker = PickCommon_Custom(\n",
    "    responders={\n",
    "        Prompt_Basic(answer_extractor=regex_answer_extractor), \n",
    "        Prompt_Basic(answer_extractor=regex_answer_extractor), \n",
    "        Prompt_Basic(answer_extractor=regex_answer_extractor), \n",
    "        Prompt_Basic(answer_extractor=regex_answer_extractor), \n",
    "        Prompt_Basic(answer_extractor=regex_answer_extractor),\n",
    "        Prompt_Basic(answer_extractor=regex_answer_extractor), \n",
    "        Prompt_Basic(answer_extractor=regex_answer_extractor), \n",
    "        Prompt_Basic(answer_extractor=regex_answer_extractor), \n",
    "        Prompt_Basic(answer_extractor=regex_answer_extractor), \n",
    "        Prompt_Basic(answer_extractor=regex_answer_extractor)\n",
    "    },\n",
    "    similarity_function=numeric_similarity\n",
    ")"
   ]
  },
  {
   "cell_type": "code",
   "execution_count": null,
   "metadata": {},
   "outputs": [],
   "source": [
    "# Define and execute query\n",
    "query = generate_basic_prompt(\"Find the largest value of $c$ such that $1$ is in the range of $f(x)=x^2-5x+c$.\", reread=True, planning=True, COT=True, answer_format=\"After reasoning, output your final answer in \\\\boxed{}.\")\n",
    "resp = light_prompter.responder.execute(model, picker, query)"
   ]
  },
  {
   "cell_type": "code",
   "execution_count": null,
   "metadata": {},
   "outputs": [],
   "source": [
    "print(\"Verbose Output:\\n\" + resp.verbose_output)"
   ]
  },
  {
   "cell_type": "code",
   "execution_count": null,
   "metadata": {},
   "outputs": [],
   "source": [
    "print(\"Output:\\n\" + resp.output)"
   ]
  },
  {
   "cell_type": "code",
   "execution_count": null,
   "metadata": {},
   "outputs": [],
   "source": [
    "print(\"Answer:\\n\" + resp.answer)"
   ]
  }
 ],
 "metadata": {
  "kernelspec": {
   "display_name": "Python 3",
   "language": "python",
   "name": "python3"
  },
  "language_info": {
   "codemirror_mode": {
    "name": "ipython",
    "version": 3
   },
   "file_extension": ".py",
   "mimetype": "text/x-python",
   "name": "python",
   "nbconvert_exporter": "python",
   "pygments_lexer": "ipython3",
   "version": "3.10.12"
  }
 },
 "nbformat": 4,
 "nbformat_minor": 2
}
