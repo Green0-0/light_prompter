{
 "cells": [
  {
   "cell_type": "code",
   "execution_count": null,
   "metadata": {},
   "outputs": [],
   "source": [
    "!pip uninstall -y --quiet torch\n",
    "!pip install vllm\n",
    "!git clone https://github.com/Green0-0/light_prompter"
   ]
  },
  {
   "cell_type": "code",
   "execution_count": null,
   "metadata": {},
   "outputs": [],
   "source": [
    "# Import required modules\n",
    "from light_prompter.model import VLLMModel\n",
    "from light_prompter import responder\n",
    "from light_prompter.responders.prompt_basic import Prompt_Basic\n",
    "from light_prompter.responders.aggregate_llm import Aggregate_LLM\n",
    "from light_prompter.responders.critique_llm import Critique_LLM\n",
    "from light_prompter.sane_defaults import *"
   ]
  },
  {
   "cell_type": "code",
   "execution_count": null,
   "metadata": {},
   "outputs": [],
   "source": [
    "from vllm import LLM, SamplingParams\n",
    "\n",
    "# Initialize model\n",
    "llm = LLM(model=\"Qwen/Qwen2.5-7B-Instruct\",\n",
    "          dtype='half',\n",
    "          enforce_eager=True,\n",
    "          gpu_memory_utilization=0.95,\n",
    "          swap_space=4,\n",
    "          max_model_len=4096,\n",
    "          tensor_parallel_size=2)\n",
    "\n",
    "sampling_params = SamplingParams(temperature=0.75,\n",
    "                                 min_p=0.1,\n",
    "                                 max_tokens=1500,\n",
    "                                 stop=[\"<｜end▁of▁sentence｜>\", \"</s>\", \"<|eot_id|>\", \"<|im_end|>\", \"[/INST]\"])\n",
    "\n",
    "model = VLLMModel(llm, sampling_params)"
   ]
  },
  {
   "cell_type": "code",
   "execution_count": null,
   "metadata": {},
   "outputs": [],
   "source": [
    "# Set up MOA responders\n",
    "aggregator_prompt = get_aggregate_prompt()\n",
    "\n",
    "# Layer 1 aggregators\n",
    "aggregator_1 = Aggregate_LLM(\n",
    "    responders={Prompt_Basic(), Prompt_Basic(), Prompt_Basic()},\n",
    "    aggregation_responder=Prompt_Basic(),\n",
    "    aggregation_prompt=aggregator_prompt\n",
    ")\n",
    "\n",
    "aggregator_2 = Aggregate_LLM(\n",
    "    responders={Prompt_Basic(), Prompt_Basic(), Prompt_Basic()},\n",
    "    aggregation_responder=Prompt_Basic(),\n",
    "    aggregation_prompt=aggregator_prompt\n",
    ")\n",
    "\n",
    "aggregator_3 = Aggregate_LLM(\n",
    "    responders={Prompt_Basic(), Prompt_Basic(), Prompt_Basic()},\n",
    "    aggregation_responder=Prompt_Basic(),\n",
    "    aggregation_prompt=aggregator_prompt\n",
    ")\n",
    "\n",
    "# Critique layer\n",
    "critique_prompt = get_critique_prompt()\n",
    "rewrite_prompt = get_rewrite_prompt()\n",
    "\n",
    "critique_1 = Critique_LLM(\n",
    "    responder=aggregator_1,\n",
    "    critique_responder=Prompt_Basic(),\n",
    "    refine_responder=Prompt_Basic(),\n",
    "    prompt_critique=critique_prompt,\n",
    "    prompt_refine=rewrite_prompt\n",
    ")\n",
    "\n",
    "critique_2 = Critique_LLM(\n",
    "    responder=aggregator_2,\n",
    "    critique_responder=Prompt_Basic(),\n",
    "    refine_responder=Prompt_Basic(),\n",
    "    prompt_critique=critique_prompt,\n",
    "    prompt_refine=rewrite_prompt\n",
    ")\n",
    "\n",
    "critique_3 = Critique_LLM(\n",
    "    responder=aggregator_3,\n",
    "    critique_responder=Prompt_Basic(),\n",
    "    refine_responder=Prompt_Basic(),\n",
    "    prompt_critique=critique_prompt,\n",
    "    prompt_refine=rewrite_prompt\n",
    ")\n",
    "\n",
    "# Final aggregator\n",
    "final_aggregator = Aggregate_LLM(\n",
    "    responders={critique_1, critique_2, critique_3},\n",
    "    aggregation_responder=Prompt_Basic(),\n",
    "    aggregation_prompt=aggregator_prompt\n",
    ")"
   ]
  },
  {
   "cell_type": "code",
   "execution_count": null,
   "metadata": {},
   "outputs": [],
   "source": [
    "# Define and execute query\n",
    "query = \"What are the most important facts about George Washington?\"\n",
    "resp = responder.execute(model, final_aggregator, query)"
   ]
  },
  {
   "cell_type": "code",
   "execution_count": null,
   "metadata": {},
   "outputs": [],
   "source": [
    "print(\"Verbose Output:\\n\" + resp.verbose_output)"
   ]
  },
  {
   "cell_type": "code",
   "execution_count": null,
   "metadata": {},
   "outputs": [],
   "source": [
    "print(\"Output:\\n\" + resp.output)"
   ]
  }
 ],
 "metadata": {
  "kernelspec": {
   "display_name": "Python 3",
   "language": "python",
   "name": "python3"
  },
  "language_info": {
   "codemirror_mode": {
    "name": "ipython",
    "version": 3
   },
   "file_extension": ".py",
   "mimetype": "text/x-python",
   "name": "python",
   "nbconvert_exporter": "python",
   "pygments_lexer": "ipython3",
   "version": "3.10.12"
  }
 },
 "nbformat": 4,
 "nbformat_minor": 2
}
